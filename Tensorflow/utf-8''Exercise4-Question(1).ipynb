{
 "cells": [
  {
   "cell_type": "markdown",
   "metadata": {
    "colab_type": "text",
    "id": "UncprnB0ymAE"
   },
   "source": [
    "Below is code with a link to a happy or sad dataset which contains 80 images, 40 happy and 40 sad. \n",
    "Create a convolutional neural network that trains to 100% accuracy on these images,  which cancels training upon hitting training accuracy of >.999\n",
    "\n",
    "Hint -- it will work best with 3 convolutional layers."
   ]
  },
  {
   "cell_type": "code",
   "execution_count": 1,
   "metadata": {},
   "outputs": [],
   "source": [
    "import tensorflow as tf\n",
    "import os\n",
    "import zipfile\n",
    "from os import path, getcwd, chdir\n",
    "\n",
    "# DO NOT CHANGE THE LINE BELOW. If you are developing in a local\n",
    "# environment, then grab happy-or-sad.zip from the Coursera Jupyter Notebook\n",
    "# and place it inside a local folder and edit the path to that location\n",
    "path = f\"{getcwd()}/../tmp2/happy-or-sad.zip\"\n",
    "\n",
    "zip_ref = zipfile.ZipFile(path, 'r')\n",
    "zip_ref.extractall(\"/tmp/h-or-s\")\n",
    "zip_ref.close()"
   ]
  },
  {
   "cell_type": "code",
   "execution_count": 3,
   "metadata": {},
   "outputs": [],
   "source": [
    "# GRADED FUNCTION: train_happy_sad_model\n",
    "def train_happy_sad_model():\n",
    "    # Please write your code only where you are indicated.\n",
    "    # please do not remove # model fitting inline comments.\n",
    "\n",
    "    DESIRED_ACCURACY = 0.999\n",
    "\n",
    "    \n",
    "    class myCallback(tf.keras.callbacks.Callback):\n",
    "        def on_epoch_end(self, epoch, logs={}):\n",
    "            if (logs.get('acc') > DESIRED_ACCURACY):\n",
    "                print('\\nDesired Accuracy is met, Stopping training...')\n",
    "                self.model.stop_training = True    # Your Code\n",
    "\n",
    "    callbacks = myCallback()\n",
    "    \n",
    "    # This Code Block should Define and Compile the Model. Please assume the images are 150 X 150 in your implementation.\n",
    "    model = tf.keras.models.Sequential([\n",
    "    tf.keras.layers.Conv2D(64, (3,3), activation='relu', input_shape=(150, 150, 3)),\n",
    "    tf.keras.layers.MaxPooling2D(2, 2),\n",
    "    tf.keras.layers.Conv2D(64, (3,3), activation='relu'),\n",
    "    tf.keras.layers.MaxPooling2D(2, 2),\n",
    "    tf.keras.layers.Conv2D(64, (3,3), activation='relu'),\n",
    "    tf.keras.layers.MaxPooling2D(2, 2),\n",
    "    tf.keras.layers.Flatten(),\n",
    "    tf.keras.layers.Dense(128, activation='relu'),\n",
    "    tf.keras.layers.Dense(1, activation='sigmoid')\n",
    "    ])\n",
    "\n",
    "    from tensorflow.keras.optimizers import RMSprop\n",
    "\n",
    "    model.compile(loss='binary_crossentropy', optimizer='adam', metrics=['acc'])\n",
    "        \n",
    "\n",
    "    # This code block should create an instance of an ImageDataGenerator called train_datagen \n",
    "    # And a train_generator by calling train_datagen.flow_from_directory\n",
    "\n",
    "    from tensorflow.keras.preprocessing.image import ImageDataGenerator\n",
    "\n",
    "    train_datagen = ImageDataGenerator(rescale=1/255.0)\n",
    "\n",
    "    train_generator = train_datagen.flow_from_directory('/tmp/h-or-s/', \n",
    "    target_size=(150,150), \n",
    "    batch_size=80, \n",
    "    class_mode='binary')\n",
    "\n",
    "    # Please use a target_size of 150 X 150.\n",
    "\n",
    "        # Your Code Here)\n",
    "    # Expected output: 'Found 80 images belonging to 2 classes'\n",
    "\n",
    "    # This code block should call model.fit_generator and train for\n",
    "    # a number of epochs.\n",
    "    # model fitting\n",
    "    \n",
    "\n",
    "# This code block should call model.fit_generator and train for\n",
    "# a number of epochs. \n",
    "    history = model.fit_generator(\n",
    "    train_generator,\n",
    "    steps_per_epoch=1,  \n",
    "    epochs=30,\n",
    "    verbose=1, \n",
    "    callbacks=[callbacks])\n",
    "    # model fitting\n",
    "    return history.history['acc'][-1]"
   ]
  },
  {
   "cell_type": "code",
   "execution_count": 4,
   "metadata": {},
   "outputs": [
    {
     "name": "stderr",
     "output_type": "stream",
     "text": [
      "WARNING: Logging before flag parsing goes to stderr.\n",
      "W0507 17:06:52.032687 140413686413120 deprecation.py:506] From /usr/local/lib/python3.6/dist-packages/tensorflow/python/ops/init_ops.py:1251: calling VarianceScaling.__init__ (from tensorflow.python.ops.init_ops) with dtype is deprecated and will be removed in a future version.\n",
      "Instructions for updating:\n",
      "Call initializer instance with the dtype argument instead of passing it to the constructor\n",
      "W0507 17:06:52.483701 140413686413120 deprecation.py:323] From /usr/local/lib/python3.6/dist-packages/tensorflow/python/ops/nn_impl.py:180: add_dispatch_support.<locals>.wrapper (from tensorflow.python.ops.array_ops) is deprecated and will be removed in a future version.\n",
      "Instructions for updating:\n",
      "Use tf.where in 2.0, which has the same broadcast rule as np.where\n"
     ]
    },
    {
     "name": "stdout",
     "output_type": "stream",
     "text": [
      "Found 80 images belonging to 2 classes.\n",
      "Epoch 1/30\n",
      "1/1 [==============================] - 6s 6s/step - loss: 0.6937 - acc: 0.5000\n",
      "Epoch 2/30\n",
      "1/1 [==============================] - 0s 93ms/step - loss: 0.9384 - acc: 0.5000\n",
      "Epoch 3/30\n",
      "1/1 [==============================] - 0s 333ms/step - loss: 0.6703 - acc: 0.5000\n",
      "Epoch 4/30\n",
      "1/1 [==============================] - 0s 361ms/step - loss: 0.6510 - acc: 0.5000\n",
      "Epoch 5/30\n",
      "1/1 [==============================] - 0s 328ms/step - loss: 0.6287 - acc: 0.5000\n",
      "Epoch 6/30\n",
      "1/1 [==============================] - 0s 378ms/step - loss: 0.5216 - acc: 0.5000\n",
      "Epoch 7/30\n",
      "1/1 [==============================] - 0s 383ms/step - loss: 0.4786 - acc: 0.9125\n",
      "Epoch 8/30\n",
      "1/1 [==============================] - 0s 239ms/step - loss: 0.4292 - acc: 0.9500\n",
      "Epoch 9/30\n",
      "1/1 [==============================] - 0s 300ms/step - loss: 0.3619 - acc: 0.9500\n",
      "Epoch 10/30\n",
      "1/1 [==============================] - 0s 326ms/step - loss: 0.3046 - acc: 0.9500\n",
      "Epoch 11/30\n",
      "1/1 [==============================] - 0s 298ms/step - loss: 0.2368 - acc: 0.9375\n",
      "Epoch 12/30\n",
      "1/1 [==============================] - 0s 297ms/step - loss: 0.1979 - acc: 0.9375\n",
      "Epoch 13/30\n",
      "1/1 [==============================] - 0s 324ms/step - loss: 0.1594 - acc: 0.9375\n",
      "Epoch 14/30\n",
      "1/1 [==============================] - 0s 370ms/step - loss: 0.1914 - acc: 0.9000\n",
      "Epoch 15/30\n",
      "1/1 [==============================] - 0s 297ms/step - loss: 0.2385 - acc: 0.9250\n",
      "Epoch 16/30\n",
      "1/1 [==============================] - 0s 303ms/step - loss: 0.2005 - acc: 0.9375\n",
      "Epoch 17/30\n",
      "1/1 [==============================] - 0s 306ms/step - loss: 0.1576 - acc: 0.9375\n",
      "Epoch 18/30\n",
      "1/1 [==============================] - 0s 311ms/step - loss: 0.1267 - acc: 0.9625\n",
      "Epoch 19/30\n",
      "1/1 [==============================] - 0s 369ms/step - loss: 0.1320 - acc: 0.9500\n",
      "Epoch 20/30\n",
      "1/1 [==============================] - 0s 319ms/step - loss: 0.1265 - acc: 0.9500\n",
      "Epoch 21/30\n",
      "1/1 [==============================] - 0s 307ms/step - loss: 0.0896 - acc: 0.9625\n",
      "Epoch 22/30\n",
      "\n",
      "Desired Accuracy is met, Stopping training...\n",
      "1/1 [==============================] - 0s 365ms/step - loss: 0.1184 - acc: 1.0000\n"
     ]
    },
    {
     "data": {
      "text/plain": [
       "1.0"
      ]
     },
     "execution_count": 4,
     "metadata": {},
     "output_type": "execute_result"
    }
   ],
   "source": [
    "# The Expected output: \"Reached 99.9% accuracy so cancelling training!\"\"\n",
    "train_happy_sad_model()"
   ]
  },
  {
   "cell_type": "code",
   "execution_count": 4,
   "metadata": {},
   "outputs": [],
   "source": [
    "# Now click the 'Submit Assignment' button above.\n",
    "# Once that is complete, please run the following two cells to save your work and close the notebook"
   ]
  }
 ],
 "metadata": {
  "coursera": {
   "course_slug": "introduction-tensorflow",
   "graded_item_id": "1kAlw",
   "launcher_item_id": "PNLYD"
  },
  "kernelspec": {
   "display_name": "Python 3",
   "language": "python",
   "name": "python3"
  },
  "language_info": {
   "codemirror_mode": {
    "name": "ipython",
    "version": 3
   },
   "file_extension": ".py",
   "mimetype": "text/x-python",
   "name": "python",
   "nbconvert_exporter": "python",
   "pygments_lexer": "ipython3",
   "version": "3.6.8"
  }
 },
 "nbformat": 4,
 "nbformat_minor": 1
}
